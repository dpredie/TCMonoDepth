{
  "nbformat": 4,
  "nbformat_minor": 0,
  "metadata": {
    "colab": {
      "name": "TCMonoDepth.jpynb",
      "provenance": [],
      "collapsed_sections": [],
      "include_colab_link": true
    },
    "kernelspec": {
      "name": "python3",
      "display_name": "Python 3"
    },
    "language_info": {
      "name": "python"
    }
  },
  "cells": [
    {
      "cell_type": "markdown",
      "metadata": {
        "id": "view-in-github",
        "colab_type": "text"
      },
      "source": [
        "<a href=\"https://colab.research.google.com/github/dpredie/TCMonoDepth/blob/main/TCMonoDepth.ipynb\" target=\"_parent\"><img src=\"https://colab.research.google.com/assets/colab-badge.svg\" alt=\"Open In Colab\"/></a>"
      ]
    },
    {
      "cell_type": "markdown",
      "metadata": {
        "id": "q6bTy0dIoZRW"
      },
      "source": [
        "1. Run Prep to clone git and dependencies\n"
      ]
    },
    {
      "cell_type": "code",
      "metadata": {
        "id": "Sb7YViMAoLNp"
      },
      "source": [
        "#prep section 1 - dependencies and folders\n",
        "!mkdir -p output\n",
        "!mkdir -p input\n",
        "\n",
        "!git clone https://github.com/dpredie/TCMonoDepth.git\n",
        "\n",
        "!pip install numpy opencv-python torch torchvision tqdm"
      ],
      "execution_count": null,
      "outputs": []
    },
    {
      "cell_type": "code",
      "metadata": {
        "id": "wuLUWAZwoa7C"
      },
      "source": [
        "#prep section 2 - download Large model 400 MB! - skip if running small model \n",
        "\n",
        "%cd /content/TCMonoDepth/weights/\n",
        "!gdown https://drive.google.com/uc?id=16N4RIPIT4p19-HKAd6jppO9q61QB0uUy"
      ],
      "execution_count": null,
      "outputs": []
    },
    {
      "cell_type": "markdown",
      "metadata": {
        "id": "1W_LkYR4EiTQ"
      },
      "source": [
        "2. Before running please upload your video to /content/input/ folder. change the below input.mp4 name to your video name, and choose to run large or small model\n",
        "Remember to define your FPS!"
      ]
    },
    {
      "cell_type": "code",
      "metadata": {
        "id": "c-x8GhEmoaza"
      },
      "source": [
        "# run\n",
        "%cd /content/TCMonoDepth/\n",
        "\n",
        "# Large Model - comment # to run small model\n",
        "#!python processVideoFile.py --model large --resume /content/TCMonoDepth/weights/_ckpt.pt.tar --fps 23.976 --input_file /content/input/input.mp4 --output /content/output/output_LG.mp4 --resize_size 384\n",
        "\n",
        "# Small Model - uncomment to run\n",
        "!python processVideoFile.py --model small --resume /content/TCMonoDepth/weights/_ckpt_small.pt.tar --fps 23.976 --input_file /content/input/input.mp4 --output /content/output/output_SM.mp4 --resize_size 256"
      ],
      "execution_count": null,
      "outputs": []
    }
  ]
}
