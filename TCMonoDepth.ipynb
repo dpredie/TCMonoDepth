{
  "nbformat": 4,
  "nbformat_minor": 0,
  "metadata": {
    "colab": {
      "name": "TCMonoDepth.jpynb",
      "provenance": [],
      "collapsed_sections": [],
      "authorship_tag": "ABX9TyPShbi5riYQirB1shH0fw9A",
      "include_colab_link": true
    },
    "kernelspec": {
      "name": "python3",
      "display_name": "Python 3"
    },
    "language_info": {
      "name": "python"
    }
  },
  "cells": [
    {
      "cell_type": "markdown",
      "metadata": {
        "id": "view-in-github",
        "colab_type": "text"
      },
      "source": [
        "<a href=\"https://colab.research.google.com/github/dpredie/TCMonoDepth/blob/main/TCMonoDepth.ipynb\" target=\"_parent\"><img src=\"https://colab.research.google.com/assets/colab-badge.svg\" alt=\"Open In Colab\"/></a>"
      ]
    },
    {
      "cell_type": "markdown",
      "metadata": {
        "id": "q6bTy0dIoZRW"
      },
      "source": [
        "1. Run Prep to clone git and dependencies\n"
      ]
    },
    {
      "cell_type": "code",
      "metadata": {
        "id": "Sb7YViMAoLNp"
      },
      "source": [
        "#code section 1 - dependencies and folders\n",
        "\n",
        "!git clone https://github.com/dpredie/TCMonoDepth.git\n",
        "\n",
        "!pip install numpy opencv-python torch torchvision tqdm"
      ],
      "execution_count": null,
      "outputs": []
    },
    {
      "cell_type": "code",
      "metadata": {
        "id": "wuLUWAZwoa7C"
      },
      "source": [
        "\n",
        "#code section 2 - download models\n",
        "\n",
        "%cd /content/TCMonoDepth/weights/\n",
        "# midas tflite from https://tfhub.dev/intel/lite-model/midas/v2_1_small/1/lite/1\n",
        "!gdown https://drive.google.com/file/d/1MGefuek7_fW_9vu5bP6l0IIF72tg-n-M/_ckpt.pt.tar\n",
        "%cd /content/TCMonoDepth/\n",
        "!mkdir -p output\n"
      ],
      "execution_count": null,
      "outputs": []
    },
    {
      "cell_type": "code",
      "metadata": {
        "id": "c-x8GhEmoaza"
      },
      "source": [
        "# run\n",
        "\n",
        "# !python demo.py --model large --resume ./weights/_ckpt.pt.tar --input /content/TCMonoDepth/videos --output /content/TCMonoDepth/output --resize_size 384\n",
        "\n",
        "!python demo.py --model small --resume ./weights/_ckpt_small.pt.tar --input /content/TCMonoDepth/videos --output /content/TCMonoDepth/output --resize_size 256"
      ],
      "execution_count": null,
      "outputs": []
    }
  ]
}
